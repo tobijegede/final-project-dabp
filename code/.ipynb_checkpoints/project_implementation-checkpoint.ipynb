{
 "cells": [
  {
   "cell_type": "markdown",
   "metadata": {},
   "source": [
    "# Model Formulation"
   ]
  },
  {
   "cell_type": "markdown",
   "metadata": {},
   "source": [
    "## Objective #1\n",
    "\n",
    "**Indices Definitions:**\n",
    "- i = the number of census tracts in Allegheny County, and ranges from 1 to 402\n",
    "- j = the number of potential distribution points (schools utilized), and ranges from 1 to 47\n",
    "\n",
    "**First-Stage Decision Variable**\n",
    "- $P$ = the  number of PODs that can be built (given the cost constraints)\n",
    "\n",
    "**Second-Stage Decision Variables:**\n",
    "- $X_{j}$ = $\\begin{cases}\n",
    "      1, & \\text{if POD j is used}\\  \\\\\n",
    "      0 , & \\text{otherwise}\n",
    "    \\end{cases}$\n",
    "    \n",
    "    \n",
    "- $Y_{ij}$ = $\\begin{cases}\n",
    "      1, & \\text{if census tract i is assigned to POD j }\\ \\\\\n",
    "      0 , & \\text{otherwise}\n",
    "    \\end{cases}$\n",
    "    \n",
    "**All Other Variables:**\n",
    "- $h_{i}$ = the total number of households in census tract i \n",
    "- $d_{ij}$ = the distance from census tract i to POD j\n",
    "- $s_{j}$ = the total number of staff available at site j\n",
    "- $T$ = the total budget\n",
    "- $c_{p}$ = the cost for each pod, which takes into account the per-POD staffing cost and the per-POD building costs \n",
    "- num_pods = the total number of possible pods (47)\n",
    "- staff_household_ratio = the number of staff members needed per household in need\n",
    "\n",
    "\n",
    "We will be running a **sensitivity analysis** in addition to satisfying the two objectives below, where we will change the total budget and the cost of each of the PODs. Varying the total budget and the per-POD cost will influence the number of pods that we can build. Through this sensitivity analysis, we will be able to determine the size of the budget that would be needed to build a sufficient number of PODs.\n",
    "\n",
    "\n",
    "**Objective Function:** \n",
    "\n",
    ">  MINIMIZE: $\\sum\\limits_{i=1}^{402} \\sum\\limits_{j=1}^{47}  d_{ij} * Y_{ij}   $ \n",
    "\n",
    "\n",
    "**Constraints:**\n",
    "\n",
    "**Cost Contraint for Number of PODs Built**\n",
    "> $ c_{p} * P  \\leq T $\n",
    "\n",
    "\n",
    "**Number of PODs Assigned Has to Be Less Than Pods Built:**\n",
    "\n",
    "> $ \\sum\\limits_{j=1}^{47} X_{j}  \\leq P $\n",
    "\n",
    "\n",
    "**Can't Build More PODs Than Exist**\n",
    "> $ P  \\leq$ num_pods \n",
    "\n",
    "\n",
    "**POD Capacity Contstraint:**\n",
    "\n",
    "If a census tract is assigned to a POD and that POD is actually built, the POD can only assist as many households as staffing capacity allows\n",
    "\n",
    "> $ \\sum\\limits_{i=1}^{402} h_{i}  * Y_{ij} \\leq$ staff_household_ratio $* s_{j} * X_{j} $ $\\forall j $  1,..., 47\n",
    "\n",
    "**Households Need Access to At Least One POD**\n",
    "\n",
    "> $ \\sum\\limits_{j=1}^{47} Y_{ij} \\geq 1 $ $\\forall i$ 1,...,  402\n",
    "\n",
    "**Send Households Where PODs Exists:**\n",
    "\n",
    "> $ Y_{ij} \\leq X_{j} $ $\\forall i$ 1,..., 402 $\\forall j$ 1,..., 40  \n",
    "\n",
    "\n",
    "**Binary Constraints:**\n",
    "\n",
    "> $X_{j}$ is binary, $Y_{ij}$ is binary\n",
    "\n",
    "\n",
    "**Non-Negativity Constraints:**\n",
    "> $P \\geq 0$\n"
   ]
  },
  {
   "cell_type": "markdown",
   "metadata": {},
   "source": [
    "\n",
    "\n",
    "## Objective #2\n",
    "\n",
    "\n",
    "**Additional Decision Variable**\n",
    "\n",
    "- Z = the maximum access distance\n",
    "    \n",
    "    \n",
    "**All Other Variables:**\n",
    "- $h_{i}$ = the total number of households in census tract i \n",
    "- $P$ = the  number of PODs that can be built (given the cost constraints)\n",
    "- $d_{ij}$ = the distance from census tract i to POD j\n",
    "- $s_{j}$ = the total number of staff available at site j\n",
    "- $T$ = the total budget\n",
    "- $c_{p}$ = the cost for each pod, which takes into account the per-POD staffing cost and the per-POD building costs \n",
    "- num_pods = the total number of possible pods (47)\n",
    "- staff_household_ratio = the number of staff members needed per household in need\n",
    "\n",
    "\n",
    "**Objective Function:** \n",
    "\n",
    ">  MINIMIZE: Z\n",
    "\n",
    "**Constraints:**\n",
    "\n",
    "**Minimizing the Distance & Linking Constraint**\n",
    "\n",
    "> $ d_{ij} * Y_{ij} \\leq Z $\n",
    "\n",
    "**Cost Contraint for Number of PODs Built**\n",
    "> $ c_{p} * P  \\leq T $\n",
    "\n",
    "\n",
    "**Number of PODs Assigned Has to Be Less Than Pods Built:**\n",
    "\n",
    "> $ \\sum\\limits_{j=1}^{47} X_{j}  \\leq P $\n",
    "\n",
    "\n",
    "**Can't Build More PODs Than Exist**\n",
    "> $ P  \\leq$ num_pods \n",
    "\n",
    "\n",
    "**POD Capacity Contstraint:**\n",
    "\n",
    "If a census tract is assigned to a POD and that POD is actually built, the POD can only assist as many households as staffing capacity allows\n",
    "\n",
    "> $ \\sum\\limits_{i=1}^{402} h_{i}  * Y_{ij} \\leq$ staff_household_ratio $* s_{j} * X_{j} $ $\\forall j $  1,..., 47\n",
    "\n",
    "**Households Need Access to At Least One POD**\n",
    "\n",
    "> $ \\sum\\limits_{j=1}^{47} Y_{ij} \\geq 1 $ $\\forall i$ 1,...,  402\n",
    "\n",
    "**Send Households Where PODs Exists:**\n",
    "\n",
    "> $ Y_{ij} \\leq X_{j} $ $\\forall i$ 1,..., 402 $\\forall j$ 1,..., 40  \n",
    "\n",
    "\n",
    "**Binary Constraints:**\n",
    "\n",
    "> $X_{j}$ is binary, $Y_{ij}$ is binary\n",
    "\n",
    "\n",
    "**Non-Negativity Constraints:**\n",
    "> $P \\geq 0$"
   ]
  },
  {
   "cell_type": "markdown",
   "metadata": {},
   "source": [
    "## Step 1: Load Data"
   ]
  },
  {
   "cell_type": "markdown",
   "metadata": {},
   "source": [
    "Load libraries"
   ]
  },
  {
   "cell_type": "code",
   "execution_count": 2,
   "metadata": {},
   "outputs": [],
   "source": [
    "from gurobipy import *\n",
    "import pandas as pd\n",
    "import numpy as np\n",
    "import csv\n",
    "import os"
   ]
  },
  {
   "cell_type": "markdown",
   "metadata": {},
   "source": [
    "Import distances"
   ]
  },
  {
   "cell_type": "code",
   "execution_count": 3,
   "metadata": {},
   "outputs": [],
   "source": [
    "#get the current working directory\n",
    "current_directory = os.getcwd()\n",
    "#go up a level in the directory path to get to the \"final-project-dabp\" folder\n",
    "path_parent = os.path.dirname(current_directory)"
   ]
  },
  {
   "cell_type": "code",
   "execution_count": 4,
   "metadata": {},
   "outputs": [],
   "source": [
    "#dist_path = '..\\\\data\\\\02-processed\\\\distance_matrix.csv'\n",
    "dist_path = os.path.join(path_parent, \"data\", \"02-processed\", \"distance_matrix.csv\")\n",
    "dist_txt = np.genfromtxt(dist_path,  dtype=str, delimiter=',', encoding='utf-8-sig')\n",
    "distance = dist_txt.astype(np.float)"
   ]
  },
  {
   "cell_type": "markdown",
   "metadata": {},
   "source": [
    "Import POD costs and total budgets - for sensitivity analysis"
   ]
  },
  {
   "cell_type": "code",
   "execution_count": 5,
   "metadata": {},
   "outputs": [],
   "source": [
    "#pod_costs = pd.read_excel('..\\\\data\\\\02-processed\\\\pod_costs_budget.xlsx', sheet_name = 'pod_costs')[['total_pod_cost']].to_numpy()\n",
    "#budget = pd.read_excel('..\\\\data\\\\02-processed\\\\pod_costs_budget.xlsx', sheet_name = 'total_budget')[['total_daily_budget']].to_numpy()\n",
    "\n",
    "pod_costs = pd.read_excel(os.path.join(path_parent, \"data\", \"02-processed\", \"pod_costs_budget.xlsx\"), sheet_name = 'pod_costs')[['total_pod_cost']].to_numpy()\n",
    "#converts pod_costs to 1-D vector/list (w/o this Gurobi throws an error)\n",
    "pod_costs = list(map(lambda x: x[0], pod_costs))\n",
    "\n",
    "budget = pd.read_excel(os.path.join(path_parent, \"data\", \"02-processed\", \"pod_costs_budget.xlsx\"), sheet_name = 'total_budget')[['total_daily_budget']].to_numpy()\n",
    "#converts budget to 1-D vector/list (w/o this Gurobi throws an error)\n",
    "budget = list(map(lambda x: x[0], budget))\n",
    "\n",
    "#upload other limiting variables\n",
    "household_capacity = pd.read_excel(os.path.join(path_parent, \"data\", \"02-processed\", \"pod_costs_budget.xlsx\"), sheet_name = 'pod_costs')[['hh_capacity']].to_numpy().tolist()\n",
    "#converts budget to 1-D vector/list (w/o this Gurobi throws an error)\n",
    "household_capacity = list(map(lambda x: x[0], household_capacity))\n"
   ]
  },
  {
   "cell_type": "markdown",
   "metadata": {},
   "source": [
    "Import Household Population Data"
   ]
  },
  {
   "cell_type": "code",
   "execution_count": 6,
   "metadata": {},
   "outputs": [],
   "source": [
    "#accessing household data\n",
    "census_data = pd.read_csv(os.path.join(path_parent, \"data\", \"02-processed\", \"census_geo.csv\"))\n",
    "\n",
    "#household populations with their associated census tract\n",
    "census_tracts = census_data[[\"tract\",\"num_hh_tot\"]]\n",
    "\n",
    "#extracts only the household population information\n",
    "households = list(census_tracts[\"num_hh_tot\"])\n"
   ]
  },
  {
   "cell_type": "markdown",
   "metadata": {},
   "source": [
    "Create Indices & Constant Variables"
   ]
  },
  {
   "cell_type": "code",
   "execution_count": 7,
   "metadata": {},
   "outputs": [],
   "source": [
    "num_census_tracts = distance.shape[0]\n",
    "num_pods = distance.shape[1] \n",
    "\n",
    "census_tracts = range(num_census_tracts)\n",
    "pods = range(num_pods)"
   ]
  },
  {
   "cell_type": "markdown",
   "metadata": {},
   "source": [
    "# Step 2: Execute The Model"
   ]
  },
  {
   "cell_type": "markdown",
   "metadata": {},
   "source": [
    "## Objective #1 Implementation"
   ]
  },
  {
   "cell_type": "markdown",
   "metadata": {},
   "source": [
    "## Objective #1\n",
    "\n",
    "**Indices Definitions:**\n",
    "- i = the number of census tracts in Allegheny County, and ranges from 1 to 402\n",
    "- j = the number of potential distribution points (schools utilized), and ranges from 1 to 47\n",
    "\n",
    "**First-Stage Decision Variable**\n",
    "- $P$ = the  number of PODs that can be built (given the cost constraints)\n",
    "\n",
    "**Second-Stage Decision Variables:**\n",
    "- $X_{j}$ = $\\begin{cases}\n",
    "      1, & \\text{if POD j is used}\\  \\\\\n",
    "      0 , & \\text{otherwise}\n",
    "    \\end{cases}$\n",
    "    \n",
    "    \n",
    "- $Y_{ij}$ = $\\begin{cases}\n",
    "      1, & \\text{if census tract i is assigned to POD j }\\ \\\\\n",
    "      0 , & \\text{otherwise}\n",
    "    \\end{cases}$\n",
    "    \n",
    "**All Other Variables:**\n",
    "- $h_{i}$ = the total number of households in census tract i \n",
    "- $d_{ij}$ = the distance from census tract i to POD j\n",
    "- $s_{j}$ = the total number of staff available at site j\n",
    "- $T$ = the total budget\n",
    "- $c_{p}$ = the cost for each pod, which takes into account the per-POD staffing cost and the per-POD building costs \n",
    "- num_pods = the total number of possible pods (47)\n",
    "- staff_household_ratio = the number of staff members needed per household in need\n",
    "\n",
    "\n",
    "We will be running a **sensitivity analysis** in addition to satisfying the two objectives below, where we will change the total budget and the cost of each of the PODs. Varying the total budget and the per-POD cost will influence the number of pods that we can build. Through this sensitivity analysis, we will be able to determine the size of the budget that would be needed to build a sufficient number of PODs.\n",
    "\n",
    "\n",
    "**Objective Function:** \n",
    "\n",
    ">  MINIMIZE: $\\sum\\limits_{i=1}^{402} \\sum\\limits_{j=1}^{47}  d_{ij} * Y_{ij}   $ \n",
    "\n",
    "\n",
    "**Constraints:**\n",
    "\n",
    "**Cost Contraint for Number of PODs Built**\n",
    "> $ c_{p} * P  \\leq T $\n",
    "\n",
    "\n",
    "**Number of PODs Assigned Has to Be Less Than Pods Built:**\n",
    "\n",
    "> $ \\sum\\limits_{j=1}^{47} X_{j}  \\leq P $\n",
    "\n",
    "\n",
    "**Can't Build More PODs Than Exist**\n",
    "> $ P  \\leq$ num_pods \n",
    "\n",
    "\n",
    "**POD Capacity Contstraint:**\n",
    "\n",
    "If a census tract is assigned to a POD and that POD is actually built, the POD can only assist as many households as staffing capacity allows\n",
    "\n",
    "> $ \\sum\\limits_{i=1}^{402} h_{i}  * Y_{ij} \\leq$ household_capacity * $ X_{j} $ $\\forall j $  1,..., 47\n",
    "\n",
    "**Households Need Access to At Least One POD**\n",
    "\n",
    "> $ \\sum\\limits_{j=1}^{47} Y_{ij} \\geq 1 $ $\\forall i$ 1,...,  402\n",
    "\n",
    "**Send Households Where PODs Exists:**\n",
    "\n",
    "> $ Y_{ij} \\leq X_{j} $ $\\forall i$ 1,..., 402 $\\forall j$ 1,..., 40  \n",
    "\n",
    "\n",
    "**Binary Constraints:**\n",
    "\n",
    "> $X_{j}$ is binary, $Y_{ij}$ is binary\n",
    "\n",
    "\n",
    "**Non-Negativity Constraints:**\n",
    "> $P \\geq 0$\n"
   ]
  },
  {
   "cell_type": "markdown",
   "metadata": {},
   "source": [
    "Create Decision Variables & Initalize Model"
   ]
  },
  {
   "cell_type": "code",
   "execution_count": 15,
   "metadata": {},
   "outputs": [],
   "source": [
    "m = Model(\"minTotal\")\n",
    "\n",
    "#number of pods (first-stage)\n",
    "p = m.addVar(lb = 0.0, vtype = GRB.INTEGER)\n",
    "\n",
    "#decision variables (second-stage)\n",
    "x = m.addVars(pods, vtype = GRB.BINARY)\n",
    "y = m.addVars(census_tracts, pods, vtype = GRB.BINARY)"
   ]
  },
  {
   "cell_type": "markdown",
   "metadata": {},
   "source": [
    "Add Objective Function "
   ]
  },
  {
   "cell_type": "code",
   "execution_count": 9,
   "metadata": {},
   "outputs": [],
   "source": [
    "m.setObjective(sum(sum(distance[i,j] * y[i,j] for j in pods) for i in census_tracts))\n",
    "m.modelSense = GRB.MINIMIZE"
   ]
  },
  {
   "cell_type": "markdown",
   "metadata": {},
   "source": [
    "Add Constraints"
   ]
  },
  {
   "cell_type": "code",
   "execution_count": 23,
   "metadata": {},
   "outputs": [
    {
     "name": "stdout",
     "output_type": "stream",
     "text": [
      "Gurobi Optimizer version 9.1.2 build v9.1.2rc0 (mac64)\n",
      "Thread count: 2 physical cores, 4 logical processors, using up to 4 threads\n",
      "Optimize a model with 96688 rows, 18942 columns and 357314 nonzeros\n",
      "Model fingerprint: 0x4c16d8d2\n",
      "Variable types: 0 continuous, 18942 integer (18941 binary)\n",
      "Coefficient statistics:\n",
      "  Matrix range     [1e+00, 5e+04]\n",
      "  Objective range  [0e+00, 0e+00]\n",
      "  Bounds range     [1e+00, 1e+00]\n",
      "  RHS range        [1e+00, 1e+06]\n",
      "Presolve removed 77871 rows and 518 columns\n",
      "Presolve time: 0.71s\n",
      "Presolved: 18817 rows, 18424 columns, 73649 nonzeros\n",
      "Variable types: 0 continuous, 18424 integer (18424 binary)\n",
      "\n",
      "Root relaxation: infeasible, 2510 iterations, 0.22 seconds\n",
      "\n",
      "    Nodes    |    Current Node    |     Objective Bounds      |     Work\n",
      " Expl Unexpl |  Obj  Depth IntInf | Incumbent    BestBd   Gap | It/Node Time\n",
      "\n",
      "     0     0 infeasible    0               - infeasible      -     -    1s\n",
      "\n",
      "Explored 0 nodes (2510 simplex iterations) in 1.15 seconds\n",
      "Thread count was 4 (of 4 available processors)\n",
      "\n",
      "Solution count 0\n",
      "\n",
      "Model is infeasible\n",
      "Best objective -, best bound -, gap -\n"
     ]
    },
    {
     "ename": "AttributeError",
     "evalue": "Unable to retrieve attribute 'x'",
     "output_type": "error",
     "traceback": [
      "\u001b[0;31m---------------------------------------------------------------------------\u001b[0m",
      "\u001b[0;31mAttributeError\u001b[0m                            Traceback (most recent call last)",
      "\u001b[0;32m<ipython-input-23-ef40bb652245>\u001b[0m in \u001b[0;36m<module>\u001b[0;34m\u001b[0m\n\u001b[1;32m     61\u001b[0m             \u001b[0;32mfor\u001b[0m \u001b[0mi\u001b[0m \u001b[0;32min\u001b[0m \u001b[0mcensus_tracts\u001b[0m\u001b[0;34m:\u001b[0m\u001b[0;34m\u001b[0m\u001b[0;34m\u001b[0m\u001b[0m\n\u001b[1;32m     62\u001b[0m                 \u001b[0;32mfor\u001b[0m \u001b[0mj\u001b[0m \u001b[0;32min\u001b[0m \u001b[0mpods\u001b[0m\u001b[0;34m:\u001b[0m\u001b[0;34m\u001b[0m\u001b[0;34m\u001b[0m\u001b[0m\n\u001b[0;32m---> 63\u001b[0;31m                     \u001b[0;32mif\u001b[0m \u001b[0mx\u001b[0m\u001b[0;34m[\u001b[0m\u001b[0mj\u001b[0m\u001b[0;34m]\u001b[0m\u001b[0;34m.\u001b[0m\u001b[0mx\u001b[0m \u001b[0;34m==\u001b[0m \u001b[0;36m1.0\u001b[0m\u001b[0;34m:\u001b[0m\u001b[0;34m\u001b[0m\u001b[0;34m\u001b[0m\u001b[0m\n\u001b[0m\u001b[1;32m     64\u001b[0m                         \u001b[0mtotal_dist\u001b[0m \u001b[0;34m+=\u001b[0m \u001b[0mdistance\u001b[0m\u001b[0;34m[\u001b[0m\u001b[0mi\u001b[0m\u001b[0;34m,\u001b[0m\u001b[0mj\u001b[0m\u001b[0;34m]\u001b[0m\u001b[0;34m\u001b[0m\u001b[0;34m\u001b[0m\u001b[0m\n\u001b[1;32m     65\u001b[0m \u001b[0;34m\u001b[0m\u001b[0m\n",
      "\u001b[0;32msrc/gurobipy/var.pxi\u001b[0m in \u001b[0;36mgurobipy.Var.__getattr__\u001b[0;34m()\u001b[0m\n",
      "\u001b[0;32msrc/gurobipy/var.pxi\u001b[0m in \u001b[0;36mgurobipy.Var.getAttr\u001b[0;34m()\u001b[0m\n",
      "\u001b[0;32msrc/gurobipy/attrutil.pxi\u001b[0m in \u001b[0;36mgurobipy.__getattr\u001b[0;34m()\u001b[0m\n",
      "\u001b[0;31mAttributeError\u001b[0m: Unable to retrieve attribute 'x'"
     ]
    }
   ],
   "source": [
    "\n",
    "#in each iteration, we want to capture:\n",
    "# 1. number of pods constructed\n",
    "# 2. the budget with for those pods\n",
    "# 3. the total associated with pod_costs\n",
    "# 4. the specific pods that are built\n",
    "# 5. where each census tract gets assigned\n",
    "# 6. total distance traveled by all households under that budget scenario\n",
    "\n",
    "total_scenarios = len(budget) * len(pod_costs)\n",
    "\n",
    "#numpy array to contain the results from the model\n",
    "pods_with_budget = np.zeros([total_scenarios, 6])\n",
    "\n",
    "\n",
    "#Note: When I tried to run this with all of the constraints, I got that the setup led to an infeasible solution. \n",
    "# I think the issue is with the pod capacity constraint so for now the code below only finds the first-stage decision variable (p)\n",
    "\n",
    "for iteration in range(total_scenarios):\n",
    "    for b in range(len(budget)):\n",
    "        for cost in range(len(pod_costs)):\n",
    "\n",
    "            total_budget = budget[b]\n",
    "            cost_per_pod = pod_costs[cost]\n",
    "\n",
    "\n",
    "            #Number of PODs Assigned Has to Be Less Than Pods Built\n",
    "            m.addConstr(cost_per_pod * p <= total_budget) \n",
    "\n",
    "            #POD Capacity Contstraint\n",
    "            m.addConstr(sum(x[j] for j in pods) <= p)\n",
    "\n",
    "            #Can't Build More PODs Than Exist\n",
    "            m.addConstr(p <= num_pods)\n",
    "\n",
    "            #You have to build pods\n",
    "            m.addConstr(p >= 0.0)\n",
    "\n",
    "            #POD Capacity Constraint -- come back to this constraint\n",
    "            #note: household_capacity is index by \"cost\" because len(pod_costs) == len(household_capacity)\n",
    "#             for j in pods:\n",
    "#                 m.addConstr(sum(households[i] * y[i,j] for i in census_tracts) <= household_capacity[cost] * x[j])\n",
    "\n",
    "\n",
    "            #Households Need Access to At Least One POD\n",
    "            for i in census_tracts:\n",
    "                m.addConstr(sum(y[i,j] for j in pods) >= 1)\n",
    "\n",
    "            #Send Households Where PODs Exist\n",
    "            for i in census_tracts:\n",
    "                for j in pods:\n",
    "                    m.addConstr(y[i,j] <= x[j])\n",
    "\n",
    "            #solve\n",
    "            m.optimize()\n",
    "\n",
    "            #capture the results\n",
    "#             for j in pods:\n",
    "#                 if x[j].x != 0.0:\n",
    "#                     print(j, x[j].x)\n",
    "            total_dist = 0\n",
    "            for i in census_tracts:\n",
    "                for j in pods:\n",
    "                    if x[j].x == 1.0:\n",
    "                        total_dist += distance[i,j]\n",
    "                        \n",
    "\n",
    "            pods_with_budget[iteration, 0] = p.x\n",
    "            pods_with_budget[iteration, 1] = total_budget\n",
    "            pods_with_budget[iteration, 2] = cost_per_pod\n",
    "            pods_with_budget[iteration, 5] = total_dist\n",
    "    #To-do figure out how to store the results that will allow a list type to be one of the stored elements\n",
    "   # pods_with_budget[iteration, 3] = \n",
    "    \n",
    "\n",
    "print(pods_with_budget)\n",
    "\n"
   ]
  },
  {
   "cell_type": "markdown",
   "metadata": {},
   "source": [
    "# Step 3: Visualize & Evaluate Model Results"
   ]
  },
  {
   "cell_type": "code",
   "execution_count": 20,
   "metadata": {},
   "outputs": [
    {
     "data": {
      "text/plain": [
       "20000"
      ]
     },
     "execution_count": 20,
     "metadata": {},
     "output_type": "execute_result"
    }
   ],
   "source": [
    "# x = 0 \n",
    "# for b in range(len(budget)):\n",
    "#     for cost in range(len(pod_costs)):\n",
    "#         x += 1\n",
    "#         print(x, budget[b], pod_costs[cost], household_capacity[cost])\n",
    "\n",
    "#household_capacity[8]"
   ]
  },
  {
   "cell_type": "code",
   "execution_count": null,
   "metadata": {},
   "outputs": [],
   "source": []
  }
 ],
 "metadata": {
  "kernelspec": {
   "display_name": "Python 3",
   "language": "python",
   "name": "python3"
  },
  "language_info": {
   "codemirror_mode": {
    "name": "ipython",
    "version": 3
   },
   "file_extension": ".py",
   "mimetype": "text/x-python",
   "name": "python",
   "nbconvert_exporter": "python",
   "pygments_lexer": "ipython3",
   "version": "3.7.6"
  }
 },
 "nbformat": 4,
 "nbformat_minor": 4
}
