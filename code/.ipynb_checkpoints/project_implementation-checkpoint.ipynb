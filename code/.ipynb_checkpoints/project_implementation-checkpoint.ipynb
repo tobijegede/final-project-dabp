{
 "cells": [
  {
   "cell_type": "markdown",
   "metadata": {},
   "source": [
    "# Model Formulation \n",
    "\n",
    "See Below for Updates Since 11/22 Meeting with Prof\n",
    "#### Done:\n",
    "- [X] Updated the model formulation section below to include a constrant that *relaxes* the \"every household needs to be served constraint\" to say, instead, that some percent (percent_served) of the total number of census tracts needs to be served\n",
    "- [X] Added the \"transportation equity\" constraint, that says **IF** a household lives in a census tract that has limited access to transportation, then they can only travel a certain distance (i.e. 2 miles) to get a POD\n",
    "\n",
    "#### To-do:\n",
    "- [ ] Run through all of the sensitivity analysis scenarios\n",
    "- [ ] Update the objective function to include a weighting for household size?"
   ]
  },
  {
   "cell_type": "markdown",
   "metadata": {},
   "source": [
    "## Objective #1\n",
    "\n",
    "**Indices Definitions:**\n",
    "- i = the number of census tracts in Allegheny County, and ranges from 1 to 402\n",
    "- j = the number of potential distribution points (schools utilized), and ranges from 1 to 47\n",
    "\n",
    "**First-Stage Decision Variable**\n",
    "- $P$ = the  number of PODs that can be built (given the cost constraints)\n",
    "\n",
    "**Second-Stage Decision Variables:**\n",
    "- $X_{j}$ = $\\begin{cases}\n",
    "      1, & \\text{if POD j is used}\\  \\\\\n",
    "      0 , & \\text{otherwise}\n",
    "    \\end{cases}$\n",
    "    \n",
    "    \n",
    "- $Y_{ij}$ = $\\begin{cases}\n",
    "      1, & \\text{if census tract i is assigned to POD j }\\ \\\\\n",
    "      0 , & \\text{otherwise}\n",
    "    \\end{cases}$\n",
    "    \n",
    "**All Other Variables:**\n",
    "- $h_{i}$ = the total number of households in census tract i \n",
    "- $d_{ij}$ = the distance from census tract i to POD j\n",
    "- $s_{j}$ = the total number of staff available at site j\n",
    "- $T$ = the total budget\n",
    "- $c_{p}$ = the cost for each pod, which takes into account the per-POD staffing cost and the per-POD building costs \n",
    "- num_pods = the total number of possible pods (47)\n",
    "- household_capacity = the total number of households that can be served per POD \n",
    "- percent_served = the percentage of the total number of census tracts that are required to be served \n",
    "- $L_{i}$ = $\\begin{cases}\n",
    "      1, & \\text{if a census tract has an average number of vehicles that is less than the $25^{th}$ percentile}\\  \\\\\n",
    "      0 , & \\text{otherwise}\n",
    "    \\end{cases}$\n",
    "\n",
    "\n",
    "We will be running a **sensitivity analysis** in addition to satisfying the two objectives below, where we will change the total budget and the cost of each of the PODs. Varying the total budget and the per-POD cost will influence the number of pods that we can build. Through this sensitivity analysis, we will be able to determine the size of the budget that would be needed to build a sufficient number of PODs.\n",
    "\n",
    "\n",
    "**Objective Function:** \n",
    "\n",
    ">  MINIMIZE: $\\sum\\limits_{i=1}^{402} \\sum\\limits_{j=1}^{47}  d_{ij} * Y_{ij}   $ \n",
    "\n",
    "\n",
    "**Constraints:**\n",
    "\n",
    "**Cost Contraint for Number of PODs Built**\n",
    "> $ c_{p} * P  \\leq T $\n",
    "\n",
    "\n",
    "**Number of PODs Assigned Has to Be Less Than Pods Built:**\n",
    "\n",
    "> $ \\sum\\limits_{j=1}^{47} X_{j}  \\leq P $\n",
    "\n",
    "\n",
    "**Can't Build More PODs Than Exist**\n",
    "> $ P  \\leq$ num_pods \n",
    "\n",
    "\n",
    "**Some % of Households Need to Served, AKA, the total number of households served needs to be greater than some threshold**\n",
    "\n",
    "> $\\sum\\limits_{i=1}^{402} \\sum\\limits_{j=1}^{47} Y_{ij} \\geq$ percent_served *  num_census_tracts\n",
    "\n",
    "**POD Capacity Contstraint:**\n",
    "\n",
    "If a census tract is assigned to a POD and that POD is actually built, the POD can only assist as many households as staffing capacity allows\n",
    "> $ \\sum\\limits_{i=1}^{402} h_{i} * Y_{ij} \\leq$ household_capacity * $ X{j} $ $\\forall j $ 1,..., 47\n",
    "\n",
    "**Transportation Equity Constraint**:\n",
    "\n",
    "*Individuals who live in census tracts with low access to vehicles, can only travel 2 miles to get to a water POD*\n",
    "\n",
    "> $d_{ij}  * Y_{ij} * L_{i} \\leq  2 $ $\\forall i$ 1,..., 402 $\\forall j$ 1,..., 40\n",
    "\n",
    "\n",
    "**Send Households Where PODs Exists:**\n",
    "\n",
    "> $ Y_{ij} \\leq X_{j} $ $\\forall i$ 1,..., 402 $\\forall j$ 1,..., 40  \n",
    "\n",
    "\n",
    "**Binary Constraints:**\n",
    "\n",
    "> $X_{j}$ is binary, $Y_{ij}$ is binary\n",
    "\n",
    "\n",
    "**Non-Negativity Constraints:**\n",
    "> $P \\geq 0$\n"
   ]
  },
  {
   "cell_type": "markdown",
   "metadata": {},
   "source": [
    "\n",
    "\n",
    "## Objective #2\n",
    "\n",
    "\n",
    "**Additional Decision Variable**\n",
    "\n",
    "- Z = the maximum access distance\n",
    "    \n",
    "    \n",
    "**All Other Variables:**\n",
    "- $h_{i}$ = the total number of households in census tract i \n",
    "- $P$ = the  number of PODs that can be built (given the cost constraints)\n",
    "- $d_{ij}$ = the distance from census tract i to POD j\n",
    "- $s_{j}$ = the total number of staff available at site j\n",
    "- $T$ = the total budget\n",
    "- $c_{p}$ = the cost for each pod, which takes into account the per-POD staffing cost and the per-POD building costs \n",
    "- num_pods = the total number of possible pods (47)\n",
    "- staff_household_ratio = the number of staff members needed per household in need\n",
    "\n",
    "\n",
    "**Objective Function:** \n",
    "\n",
    ">  MINIMIZE: Z\n",
    "\n",
    "**Constraints:**\n",
    "\n",
    "**Minimizing the Distance & Linking Constraint**\n",
    "\n",
    "> $ d_{ij} * Y_{ij} \\leq Z $\n",
    "\n",
    "**Cost Contraint for Number of PODs Built**\n",
    "> $ c_{p} * P  \\leq T $\n",
    "\n",
    "\n",
    "**Number of PODs Assigned Has to Be Less Than Pods Built:**\n",
    "\n",
    "> $ \\sum\\limits_{j=1}^{47} X_{j}  \\leq P $\n",
    "\n",
    "\n",
    "**Can't Build More PODs Than Exist**\n",
    "> $ P  \\leq$ num_pods \n",
    "\n",
    "\n",
    "**POD Capacity Contstraint:**\n",
    "\n",
    "If a census tract is assigned to a POD and that POD is actually built, the POD can only assist as many households as staffing capacity allows\n",
    "\n",
    "> $ \\sum\\limits_{i=1}^{402} h_{i}  * Y_{ij} \\leq$ staff_household_ratio $* s_{j} * X_{j} $ $\\forall j $  1,..., 47\n",
    "\n",
    "**Households Need Access to At Least One POD**\n",
    "\n",
    "> $ \\sum\\limits_{j=1}^{47} Y_{ij} \\geq 1 $ $\\forall i$ 1,...,  402\n",
    "\n",
    "**Send Households Where PODs Exists:**\n",
    "\n",
    "> $ Y_{ij} \\leq X_{j} $ $\\forall i$ 1,..., 402 $\\forall j$ 1,..., 40  \n",
    "\n",
    "\n",
    "**Binary Constraints:**\n",
    "\n",
    "> $X_{j}$ is binary, $Y_{ij}$ is binary\n",
    "\n",
    "\n",
    "**Non-Negativity Constraints:**\n",
    "> $P \\geq 0$"
   ]
  },
  {
   "cell_type": "markdown",
   "metadata": {},
   "source": [
    "## Step 1: Load Data"
   ]
  },
  {
   "cell_type": "markdown",
   "metadata": {},
   "source": [
    "Load libraries"
   ]
  },
  {
   "cell_type": "code",
   "execution_count": null,
   "metadata": {},
   "outputs": [],
   "source": [
    "from gurobipy import *\n",
    "import pandas as pd\n",
    "import numpy as np\n",
    "import csv\n",
    "import os"
   ]
  },
  {
   "cell_type": "markdown",
   "metadata": {},
   "source": [
    "Import distances"
   ]
  },
  {
   "cell_type": "code",
   "execution_count": null,
   "metadata": {},
   "outputs": [],
   "source": [
    "#get the current working directory\n",
    "current_directory = os.getcwd()\n",
    "#go up a level in the directory path to get to the \"final-project-dabp\" folder\n",
    "path_parent = os.path.dirname(current_directory)"
   ]
  },
  {
   "cell_type": "code",
   "execution_count": null,
   "metadata": {},
   "outputs": [],
   "source": [
    "dist_path = os.path.join(path_parent, \"data\", \"02-processed\", \"distance_matrix.csv\")\n",
    "dist_txt = np.genfromtxt(dist_path,  dtype=str, delimiter=',', encoding='utf-8-sig')\n",
    "distance = dist_txt.astype(np.float)"
   ]
  },
  {
   "cell_type": "markdown",
   "metadata": {},
   "source": [
    "Import POD costs and total budgets - for sensitivity analysis"
   ]
  },
  {
   "cell_type": "code",
   "execution_count": null,
   "metadata": {},
   "outputs": [],
   "source": [
    "pod_costs = pd.read_excel(os.path.join(path_parent, \"data\", \"02-processed\", \"pod_costs_budget.xlsx\"), sheet_name = 'pod_costs')[['total_pod_cost']].to_numpy()\n",
    "#converts pod_costs to 1-D vector/list (w/o this Gurobi throws an error)\n",
    "pod_costs = list(map(lambda x: x[0], pod_costs))\n",
    "\n",
    "budget = pd.read_excel(os.path.join(path_parent, \"data\", \"02-processed\", \"pod_costs_budget.xlsx\"), sheet_name = 'total_budget')[['total_daily_budget']].to_numpy()\n",
    "#converts budget to 1-D vector/list (w/o this Gurobi throws an error)\n",
    "budget = list(map(lambda x: x[0], budget))\n",
    "\n",
    "#upload other limiting variables\n",
    "household_capacity = pd.read_excel(os.path.join(path_parent, \"data\", \"02-processed\", \"pod_costs_budget.xlsx\"), sheet_name = 'pod_costs')[['hh_capacity']].to_numpy().tolist()\n",
    "#converts budget to 1-D vector/list (w/o this Gurobi throws an error)\n",
    "household_capacity = list(map(lambda x: x[0], household_capacity))\n"
   ]
  },
  {
   "cell_type": "markdown",
   "metadata": {},
   "source": [
    "Import Household Population Data"
   ]
  },
  {
   "cell_type": "code",
   "execution_count": null,
   "metadata": {},
   "outputs": [],
   "source": [
    "#accessing household data\n",
    "census_data = pd.read_csv(os.path.join(path_parent, \"data\", \"02-processed\", \"census_geo.csv\"))\n",
    "\n",
    "#household populations with their associated census tract\n",
    "census_tracts = census_data[[\"tract\"]]\n",
    "\n",
    "#extracts only the household population information\n",
    "households = list(census_data[\"num_hh_tot\"])\n",
    "\n",
    "#extract the low vehicle access variable\n",
    "L = list(census_data[\"low_vehicle_access\"])\n"
   ]
  },
  {
   "cell_type": "markdown",
   "metadata": {},
   "source": [
    "Create Indices & Constant Variables"
   ]
  },
  {
   "cell_type": "code",
   "execution_count": null,
   "metadata": {},
   "outputs": [],
   "source": [
    "num_census_tracts = distance.shape[0]\n",
    "num_pods = distance.shape[1] \n",
    "\n",
    "census_tracts = range(num_census_tracts)\n",
    "pods = range(num_pods)"
   ]
  },
  {
   "cell_type": "markdown",
   "metadata": {},
   "source": [
    "# Step 2: Execute The Model"
   ]
  },
  {
   "cell_type": "markdown",
   "metadata": {},
   "source": [
    "## Objective #1 "
   ]
  },
  {
   "cell_type": "markdown",
   "metadata": {},
   "source": [
    "### **WITHOUT SENSITIVITY ANALYSIS**"
   ]
  },
  {
   "cell_type": "markdown",
   "metadata": {},
   "source": [
    "Create Decision Variables & Initalize Model"
   ]
  },
  {
   "cell_type": "code",
   "execution_count": null,
   "metadata": {},
   "outputs": [],
   "source": [
    "m = Model(\"minTotal\")\n",
    "\n",
    "#number of pods (first-stage)\n",
    "p = m.addVar(lb = 0.0, vtype = GRB.INTEGER)\n",
    "\n",
    "#decision variables (second-stage)\n",
    "x = m.addVars(pods, vtype = GRB.BINARY)\n",
    "y = m.addVars(census_tracts, pods, vtype = GRB.BINARY)"
   ]
  },
  {
   "cell_type": "markdown",
   "metadata": {},
   "source": [
    "Add Objective Function "
   ]
  },
  {
   "cell_type": "code",
   "execution_count": null,
   "metadata": {},
   "outputs": [],
   "source": [
    "m.setObjective(sum(sum(distance[i,j] * y[i,j]  for j in pods) for i in census_tracts)) #original \n",
    "#m.setObjective(sum(sum(distance[i,j] * y[i,j] * households[i] for j in pods) for i in census_tracts)) #added the household size information\n",
    "m.modelSense = GRB.MINIMIZE"
   ]
  },
  {
   "cell_type": "markdown",
   "metadata": {},
   "source": [
    "Setting out some of the Constants Needed to Develop the Models  **(some of these variables will be changed to allow for sensitivity analysis)**"
   ]
  },
  {
   "cell_type": "code",
   "execution_count": null,
   "metadata": {},
   "outputs": [],
   "source": [
    "#set the upper bound for the transportation equity constraint\n",
    "upper_bound_mileage = 2.0\n",
    "\n",
    "#set constraint for percentage of households served\n",
    "percent_served = 0.80\n",
    "\n",
    "total_budget = budget[0] #select just one of the budget amounts as a test\n",
    "cost_per_pod = pod_costs[0] #select just one of the pod costs as a test\n"
   ]
  },
  {
   "cell_type": "markdown",
   "metadata": {},
   "source": [
    "Add Constraints"
   ]
  },
  {
   "cell_type": "markdown",
   "metadata": {},
   "source": [
    "**Constraint #1: You Can Only Build As Many PODs As Your Budget Allows**"
   ]
  },
  {
   "cell_type": "code",
   "execution_count": null,
   "metadata": {},
   "outputs": [],
   "source": [
    "m.addConstr(cost_per_pod * p <= total_budget) "
   ]
  },
  {
   "cell_type": "markdown",
   "metadata": {},
   "source": [
    "**Constraint #2: Can't Use More Pods than are Built**\n"
   ]
  },
  {
   "cell_type": "code",
   "execution_count": null,
   "metadata": {},
   "outputs": [],
   "source": [
    "m.addConstr(sum(x[j] for j in pods) <= p)"
   ]
  },
  {
   "cell_type": "markdown",
   "metadata": {},
   "source": [
    "**Constraint #3: Can't Build More PODs Than Exist**"
   ]
  },
  {
   "cell_type": "code",
   "execution_count": null,
   "metadata": {},
   "outputs": [],
   "source": [
    "m.addConstr(p <= num_pods)    "
   ]
  },
  {
   "cell_type": "markdown",
   "metadata": {},
   "source": [
    "**Constraint #4: Send Households Where PODs Exist**"
   ]
  },
  {
   "cell_type": "code",
   "execution_count": null,
   "metadata": {},
   "outputs": [],
   "source": [
    "for i in census_tracts:\n",
    "    for j in pods:\n",
    "        m.addConstr(y[i,j] <= x[j])"
   ]
  },
  {
   "cell_type": "markdown",
   "metadata": {},
   "source": [
    "**Constraint #5: The total number of households served needs to be greater than some threshold**\n"
   ]
  },
  {
   "cell_type": "code",
   "execution_count": null,
   "metadata": {},
   "outputs": [],
   "source": [
    "m.addConstr(sum(sum(y[i,j] for i in census_tracts) for j in pods)  >= percent_served * num_census_tracts)"
   ]
  },
  {
   "cell_type": "markdown",
   "metadata": {},
   "source": [
    "**Constraint #6: Each POD can only serve a certain household capacity that can't be exceeded**\n"
   ]
  },
  {
   "cell_type": "code",
   "execution_count": null,
   "metadata": {},
   "outputs": [],
   "source": [
    "#note: household_capacity is index by \"cost\" because len(pod_costs) == len(household_capacity)\n",
    "for j in pods:\n",
    "    m.addConstr(sum(households[i] * y[i,j] for i in census_tracts) <= household_capacity[0] * x[j])\n"
   ]
  },
  {
   "cell_type": "markdown",
   "metadata": {},
   "source": [
    "**Constraint #7: Transportation Equity Constraint**"
   ]
  },
  {
   "cell_type": "code",
   "execution_count": null,
   "metadata": {},
   "outputs": [],
   "source": [
    "for i in census_tracts:\n",
    "    for j in pods:\n",
    "        m.addConstr(distance[i,j] * y[i,j] * L[i] <= upper_bound_mileage)\n"
   ]
  },
  {
   "cell_type": "markdown",
   "metadata": {},
   "source": [
    "Test Out Results"
   ]
  },
  {
   "cell_type": "code",
   "execution_count": null,
   "metadata": {},
   "outputs": [],
   "source": [
    "m.optimize()\n",
    "print(\"The optimal distance traveled:\", m.ObjVal)"
   ]
  },
  {
   "cell_type": "code",
   "execution_count": null,
   "metadata": {},
   "outputs": [],
   "source": [
    "num_pods_built = 0\n",
    "for j in pods:\n",
    "    if x[j].x == 1.0:\n",
    "        num_pods_built += 1\n",
    "print(num_pods_built)    \n",
    "\n",
    "num_households_served = 0\n",
    "\n",
    "for i in census_tracts:\n",
    "    for j in pods:\n",
    "        if y[i,j].x == 1.0:\n",
    "            num_households_served += 1\n",
    "            #print(i, j, y[i,j].x)\n",
    "print(num_households_served)\n"
   ]
  },
  {
   "cell_type": "markdown",
   "metadata": {},
   "source": [
    "### **WITH SENSITIVITY ANALYSIS**"
   ]
  },
  {
   "cell_type": "markdown",
   "metadata": {},
   "source": [
    "# Step 3: Visualize & Evaluate Model Results"
   ]
  },
  {
   "cell_type": "code",
   "execution_count": null,
   "metadata": {},
   "outputs": [],
   "source": [
    "# x = 0 \n",
    "# for b in range(len(budget)):\n",
    "#     for cost in range(len(pod_costs)):\n",
    "#         x += 1\n",
    "#         print(x, budget[b], pod_costs[cost], household_capacity[cost])\n",
    "\n",
    "#household_capacity[8]"
   ]
  },
  {
   "cell_type": "code",
   "execution_count": null,
   "metadata": {},
   "outputs": [],
   "source": []
  },
  {
   "cell_type": "code",
   "execution_count": null,
   "metadata": {},
   "outputs": [],
   "source": []
  },
  {
   "cell_type": "code",
   "execution_count": null,
   "metadata": {},
   "outputs": [],
   "source": []
  },
  {
   "cell_type": "markdown",
   "metadata": {},
   "source": [
    "### Code Graveyard :0 *Spooky* "
   ]
  },
  {
   "cell_type": "code",
   "execution_count": null,
   "metadata": {},
   "outputs": [],
   "source": [
    "#constraint that all of the households need access to a pod\n",
    "# #all households need access to one pod\n",
    "# for i in census_tracts:\n",
    "#      m.addConstr(sum(y[i,j] for j in pods) >= 1)\n",
    "    \n",
    "\n",
    "#You have to build pods -- NOT NEEDED WHEN YOU CONSTRAIN THE NUMBER OF HOUSEHOLDS THAT HAVE TO BE SERVED\n",
    "#m.addConstr(p >= min_num_pods)"
   ]
  },
  {
   "cell_type": "code",
   "execution_count": null,
   "metadata": {},
   "outputs": [],
   "source": [
    "#in each iteration, we want to capture:\n",
    "# 1. number of pods constructed\n",
    "# 2. the budget with for those pods\n",
    "# 3. the total associated with pod_costs\n",
    "# 4. the specific pods that are built\n",
    "# 5. where each census tract gets assigned\n",
    "# 6. total distance traveled by all households under that budget scenario\n",
    "\n",
    "# #set # of scenarios\n",
    "# total_scenarios = len(budget) * len(pod_costs)\n",
    "\n",
    "# #set the upper bound for the transportation equity constraint\n",
    "# upper_bound_mileage = 10.0\n",
    "\n",
    "# #set constraint for percentage of households served\n",
    "# percent_served = 0.80\n",
    "\n",
    "#numpy array to contain the results from the model\n",
    "#pods_with_budget = np.zeros([total_scenarios, 6])\n",
    "\n",
    "\n",
    "#Note: When I tried to run this with all of the constraints, I got that the setup led to an infeasible solution. \n",
    "# I think the issue is with the pod capacity constraint so for now the code below only finds the first-stage decision variable (p)\n",
    "\n",
    "# for iteration in range(total_scenarios):\n",
    "#     for b in range(len(budget)):\n",
    "#         for cost in range(len(pod_costs)):\n",
    "\n",
    "# total_budget = budget[b]\n",
    "# cost_per_pod = pod_costs[cost]\n",
    "\n",
    "# total_budget = budget[3]\n",
    "# cost_per_pod = pod_costs[3]\n",
    "\n",
    "# #Number of PODs Assigned Has to Be Less Than Pods Built\n",
    "# m.addConstr(cost_per_pod * p <= total_budget) \n",
    "\n",
    "#Can't Use More Pods than are Built\n",
    "# m.addConstr(sum(x[j] for j in pods) <= p)\n",
    "\n",
    "# #Can't Build More PODs Than Exist\n",
    "# m.addConstr(p <= num_pods)\n",
    "\n",
    "# #You have to build pods\n",
    "# m.addConstr(p >= 0.0)\n",
    "\n",
    "# #Each POD can only serve a certain household capacity that can't be exceeded\n",
    "# #note: household_capacity is index by \"cost\" because len(pod_costs) == len(household_capacity)\n",
    "# for j in pods:\n",
    "#     m.addConstr(sum(households[i] * y[i,j] for i in census_tracts) <= household_capacity[0] * x[j])\n",
    "\n",
    "\n",
    "# #Households Need Access to At Least One POD - relaxing this constrant as of 11/23\n",
    "# for i in census_tracts:\n",
    "#     m.addConstr(sum(y[i,j] for j in pods) >= 1)\n",
    "\n",
    "# #Total Number of Households Served as to be at least 80% of the total number of census_tracts **** \n",
    "# for i in census_tracts:\n",
    "#         m.addConstr(sum(y[i,j] for j in pods) >= percent_served * num_census_tracts)\n",
    "\n",
    "# #Transportation Equity Constraint\n",
    "# for i in census_tracts:\n",
    "#     for j in pods:\n",
    "#         m.addConstr(distance[i,j] * y[i,j] * L[i] <= upper_bound_mileage)\n",
    "    \n",
    "    \n",
    "# #Send Households Where PODs Exist\n",
    "# for i in census_tracts:\n",
    "#     for j in pods:\n",
    "#         m.addConstr(y[i,j] <= x[j])\n",
    "\n",
    "#solve\n",
    "#m.optimize()\n",
    "\n",
    "#capture the results\n",
    "#total_dist = m.ObjVal\n",
    "#print(total_dist)\n",
    "\n",
    "#             for j in pods:\n",
    "#                 if x[j].x != 0.0:\n",
    "#                     print(j, x[j].x)\n",
    "#             total_dist = 0\n",
    "#             for i in census_tracts:\n",
    "#                 for j in pods:\n",
    "#                     if x[j].x == 1.0:\n",
    "#                         total_dist += distance[i,j]\n",
    "\n",
    "\n",
    "\n",
    "# pods_with_budget[iteration, 0] = p.x\n",
    "# pods_with_budget[iteration, 1] = total_budget\n",
    "# pods_with_budget[iteration, 2] = cost_per_pod\n",
    "# pods_with_budget[iteration, 5] = total_dist\n",
    "    #To-do figure out how to store the results that will allow a list type to be one of the stored elements\n",
    "   # pods_with_budget[iteration, 3] = \n",
    "    \n",
    "\n",
    "# print(pods_with_budget)\n",
    "\n"
   ]
  },
  {
   "cell_type": "code",
   "execution_count": null,
   "metadata": {},
   "outputs": [],
   "source": [
    "#Can't Use More Pods than are Built\n",
    "#m.addConstr(sum(x[j] for j in pods) <= p)\n",
    "\n",
    "#Can't Build More PODs Than Exist\n",
    "#m.addConstr(p <= num_pods)\n",
    "\n",
    "#Each POD can only serve a certain household capacity that can't be exceeded\n",
    "#note: household_capacity is index by \"cost\" because len(pod_costs) == len(household_capacity)\n",
    "# for j in pods:\n",
    "#     m.addConstr(sum(households[i] * y[i,j] for i in census_tracts) <= household_capacity[0] * x[j])\n",
    "\n",
    "#Total Number of Households Served as to be at least 80% (or some other percentage) of the total number of census_tracts **** \n",
    "#the total number of households served needs to be greater than some threshold\n",
    "#m.addConstr(sum(sum(y[i,j] for i in census_tracts) for j in pods)  >= percent_served * num_census_tracts)\n",
    "\n",
    "#Transportation Equity Constraint\n",
    "# for i in census_tracts:\n",
    "#     for j in pods:\n",
    "#         m.addConstr(distance[i,j] * y[i,j] * L[i] <= upper_bound_mileage)\n",
    "    \n",
    "# #Send Households Where PODs Exist\n",
    "# for i in census_tracts:\n",
    "#     for j in pods:\n",
    "#         m.addConstr(y[i,j] <= x[j])\n"
   ]
  }
 ],
 "metadata": {
  "kernelspec": {
   "display_name": "Python 3",
   "language": "python",
   "name": "python3"
  },
  "language_info": {
   "codemirror_mode": {
    "name": "ipython",
    "version": 3
   },
   "file_extension": ".py",
   "mimetype": "text/x-python",
   "name": "python",
   "nbconvert_exporter": "python",
   "pygments_lexer": "ipython3",
   "version": "3.7.6"
  }
 },
 "nbformat": 4,
 "nbformat_minor": 4
}
